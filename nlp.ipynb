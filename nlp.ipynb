{
 "cells": [
  {
   "cell_type": "markdown",
   "metadata": {},
   "source": [
    "## TP 1 : Introduction au deep learning pour le NLP\n",
    "\n",
    "\n",
    "Dans ce TP; on changera un peu des bases classiques d'apprentissage statistique, pour traiter un type de données différentes : le texte. \n"
   ]
  },
  {
   "cell_type": "markdown",
   "metadata": {},
   "source": [
    "#### Analyse de films avec Word2Vec - Une approche approfondie\n",
    "\n",
    "##### 1. Configuration initiale et imports"
   ]
  },
  {
   "cell_type": "code",
   "execution_count": 1,
   "metadata": {},
   "outputs": [],
   "source": [
    "# 1. Imports et configuration\n",
    "import pandas as pd\n",
    "import numpy as np\n",
    "import matplotlib.pyplot as plt\n",
    "import seaborn as sns\n",
    "import warnings\n",
    "warnings.filterwarnings('ignore')\n"
   ]
  },
  {
   "cell_type": "code",
   "execution_count": 2,
   "metadata": {},
   "outputs": [],
   "source": [
    "# Configuration des visualisations\n",
    "sns.set_theme() \n",
    "sns.set_palette(\"husl\")\n",
    "pd.set_option('display.max_columns', None)\n"
   ]
  },
  {
   "cell_type": "code",
   "execution_count": 3,
   "metadata": {},
   "outputs": [
    {
     "name": "stdout",
     "output_type": "stream",
     "text": [
      "Chargement des données...\n",
      "Dimensions du dataset: (45466, 24)\n",
      "\n",
      "Aperçu des premières lignes:\n"
     ]
    },
    {
     "data": {
      "text/html": [
       "<div>\n",
       "<style scoped>\n",
       "    .dataframe tbody tr th:only-of-type {\n",
       "        vertical-align: middle;\n",
       "    }\n",
       "\n",
       "    .dataframe tbody tr th {\n",
       "        vertical-align: top;\n",
       "    }\n",
       "\n",
       "    .dataframe thead th {\n",
       "        text-align: right;\n",
       "    }\n",
       "</style>\n",
       "<table border=\"1\" class=\"dataframe\">\n",
       "  <thead>\n",
       "    <tr style=\"text-align: right;\">\n",
       "      <th></th>\n",
       "      <th>adult</th>\n",
       "      <th>belongs_to_collection</th>\n",
       "      <th>budget</th>\n",
       "      <th>genres</th>\n",
       "      <th>homepage</th>\n",
       "      <th>id</th>\n",
       "      <th>imdb_id</th>\n",
       "      <th>original_language</th>\n",
       "      <th>original_title</th>\n",
       "      <th>overview</th>\n",
       "      <th>popularity</th>\n",
       "      <th>poster_path</th>\n",
       "      <th>production_companies</th>\n",
       "      <th>production_countries</th>\n",
       "      <th>release_date</th>\n",
       "      <th>revenue</th>\n",
       "      <th>runtime</th>\n",
       "      <th>spoken_languages</th>\n",
       "      <th>status</th>\n",
       "      <th>tagline</th>\n",
       "      <th>title</th>\n",
       "      <th>video</th>\n",
       "      <th>vote_average</th>\n",
       "      <th>vote_count</th>\n",
       "    </tr>\n",
       "  </thead>\n",
       "  <tbody>\n",
       "    <tr>\n",
       "      <th>0</th>\n",
       "      <td>False</td>\n",
       "      <td>{'id': 10194, 'name': 'Toy Story Collection', ...</td>\n",
       "      <td>30000000</td>\n",
       "      <td>[{'id': 16, 'name': 'Animation'}, {'id': 35, '...</td>\n",
       "      <td>http://toystory.disney.com/toy-story</td>\n",
       "      <td>862</td>\n",
       "      <td>tt0114709</td>\n",
       "      <td>en</td>\n",
       "      <td>Toy Story</td>\n",
       "      <td>Led by Woody, Andy's toys live happily in his ...</td>\n",
       "      <td>21.946943</td>\n",
       "      <td>/rhIRbceoE9lR4veEXuwCC2wARtG.jpg</td>\n",
       "      <td>[{'name': 'Pixar Animation Studios', 'id': 3}]</td>\n",
       "      <td>[{'iso_3166_1': 'US', 'name': 'United States o...</td>\n",
       "      <td>1995-10-30</td>\n",
       "      <td>373554033.0</td>\n",
       "      <td>81.0</td>\n",
       "      <td>[{'iso_639_1': 'en', 'name': 'English'}]</td>\n",
       "      <td>Released</td>\n",
       "      <td>NaN</td>\n",
       "      <td>Toy Story</td>\n",
       "      <td>False</td>\n",
       "      <td>7.7</td>\n",
       "      <td>5415.0</td>\n",
       "    </tr>\n",
       "    <tr>\n",
       "      <th>1</th>\n",
       "      <td>False</td>\n",
       "      <td>NaN</td>\n",
       "      <td>65000000</td>\n",
       "      <td>[{'id': 12, 'name': 'Adventure'}, {'id': 14, '...</td>\n",
       "      <td>NaN</td>\n",
       "      <td>8844</td>\n",
       "      <td>tt0113497</td>\n",
       "      <td>en</td>\n",
       "      <td>Jumanji</td>\n",
       "      <td>When siblings Judy and Peter discover an encha...</td>\n",
       "      <td>17.015539</td>\n",
       "      <td>/vzmL6fP7aPKNKPRTFnZmiUfciyV.jpg</td>\n",
       "      <td>[{'name': 'TriStar Pictures', 'id': 559}, {'na...</td>\n",
       "      <td>[{'iso_3166_1': 'US', 'name': 'United States o...</td>\n",
       "      <td>1995-12-15</td>\n",
       "      <td>262797249.0</td>\n",
       "      <td>104.0</td>\n",
       "      <td>[{'iso_639_1': 'en', 'name': 'English'}, {'iso...</td>\n",
       "      <td>Released</td>\n",
       "      <td>Roll the dice and unleash the excitement!</td>\n",
       "      <td>Jumanji</td>\n",
       "      <td>False</td>\n",
       "      <td>6.9</td>\n",
       "      <td>2413.0</td>\n",
       "    </tr>\n",
       "    <tr>\n",
       "      <th>2</th>\n",
       "      <td>False</td>\n",
       "      <td>{'id': 119050, 'name': 'Grumpy Old Men Collect...</td>\n",
       "      <td>0</td>\n",
       "      <td>[{'id': 10749, 'name': 'Romance'}, {'id': 35, ...</td>\n",
       "      <td>NaN</td>\n",
       "      <td>15602</td>\n",
       "      <td>tt0113228</td>\n",
       "      <td>en</td>\n",
       "      <td>Grumpier Old Men</td>\n",
       "      <td>A family wedding reignites the ancient feud be...</td>\n",
       "      <td>11.7129</td>\n",
       "      <td>/6ksm1sjKMFLbO7UY2i6G1ju9SML.jpg</td>\n",
       "      <td>[{'name': 'Warner Bros.', 'id': 6194}, {'name'...</td>\n",
       "      <td>[{'iso_3166_1': 'US', 'name': 'United States o...</td>\n",
       "      <td>1995-12-22</td>\n",
       "      <td>0.0</td>\n",
       "      <td>101.0</td>\n",
       "      <td>[{'iso_639_1': 'en', 'name': 'English'}]</td>\n",
       "      <td>Released</td>\n",
       "      <td>Still Yelling. Still Fighting. Still Ready for...</td>\n",
       "      <td>Grumpier Old Men</td>\n",
       "      <td>False</td>\n",
       "      <td>6.5</td>\n",
       "      <td>92.0</td>\n",
       "    </tr>\n",
       "    <tr>\n",
       "      <th>3</th>\n",
       "      <td>False</td>\n",
       "      <td>NaN</td>\n",
       "      <td>16000000</td>\n",
       "      <td>[{'id': 35, 'name': 'Comedy'}, {'id': 18, 'nam...</td>\n",
       "      <td>NaN</td>\n",
       "      <td>31357</td>\n",
       "      <td>tt0114885</td>\n",
       "      <td>en</td>\n",
       "      <td>Waiting to Exhale</td>\n",
       "      <td>Cheated on, mistreated and stepped on, the wom...</td>\n",
       "      <td>3.859495</td>\n",
       "      <td>/16XOMpEaLWkrcPqSQqhTmeJuqQl.jpg</td>\n",
       "      <td>[{'name': 'Twentieth Century Fox Film Corporat...</td>\n",
       "      <td>[{'iso_3166_1': 'US', 'name': 'United States o...</td>\n",
       "      <td>1995-12-22</td>\n",
       "      <td>81452156.0</td>\n",
       "      <td>127.0</td>\n",
       "      <td>[{'iso_639_1': 'en', 'name': 'English'}]</td>\n",
       "      <td>Released</td>\n",
       "      <td>Friends are the people who let you be yourself...</td>\n",
       "      <td>Waiting to Exhale</td>\n",
       "      <td>False</td>\n",
       "      <td>6.1</td>\n",
       "      <td>34.0</td>\n",
       "    </tr>\n",
       "    <tr>\n",
       "      <th>4</th>\n",
       "      <td>False</td>\n",
       "      <td>{'id': 96871, 'name': 'Father of the Bride Col...</td>\n",
       "      <td>0</td>\n",
       "      <td>[{'id': 35, 'name': 'Comedy'}]</td>\n",
       "      <td>NaN</td>\n",
       "      <td>11862</td>\n",
       "      <td>tt0113041</td>\n",
       "      <td>en</td>\n",
       "      <td>Father of the Bride Part II</td>\n",
       "      <td>Just when George Banks has recovered from his ...</td>\n",
       "      <td>8.387519</td>\n",
       "      <td>/e64sOI48hQXyru7naBFyssKFxVd.jpg</td>\n",
       "      <td>[{'name': 'Sandollar Productions', 'id': 5842}...</td>\n",
       "      <td>[{'iso_3166_1': 'US', 'name': 'United States o...</td>\n",
       "      <td>1995-02-10</td>\n",
       "      <td>76578911.0</td>\n",
       "      <td>106.0</td>\n",
       "      <td>[{'iso_639_1': 'en', 'name': 'English'}]</td>\n",
       "      <td>Released</td>\n",
       "      <td>Just When His World Is Back To Normal... He's ...</td>\n",
       "      <td>Father of the Bride Part II</td>\n",
       "      <td>False</td>\n",
       "      <td>5.7</td>\n",
       "      <td>173.0</td>\n",
       "    </tr>\n",
       "  </tbody>\n",
       "</table>\n",
       "</div>"
      ],
      "text/plain": [
       "   adult                              belongs_to_collection    budget  \\\n",
       "0  False  {'id': 10194, 'name': 'Toy Story Collection', ...  30000000   \n",
       "1  False                                                NaN  65000000   \n",
       "2  False  {'id': 119050, 'name': 'Grumpy Old Men Collect...         0   \n",
       "3  False                                                NaN  16000000   \n",
       "4  False  {'id': 96871, 'name': 'Father of the Bride Col...         0   \n",
       "\n",
       "                                              genres  \\\n",
       "0  [{'id': 16, 'name': 'Animation'}, {'id': 35, '...   \n",
       "1  [{'id': 12, 'name': 'Adventure'}, {'id': 14, '...   \n",
       "2  [{'id': 10749, 'name': 'Romance'}, {'id': 35, ...   \n",
       "3  [{'id': 35, 'name': 'Comedy'}, {'id': 18, 'nam...   \n",
       "4                     [{'id': 35, 'name': 'Comedy'}]   \n",
       "\n",
       "                               homepage     id    imdb_id original_language  \\\n",
       "0  http://toystory.disney.com/toy-story    862  tt0114709                en   \n",
       "1                                   NaN   8844  tt0113497                en   \n",
       "2                                   NaN  15602  tt0113228                en   \n",
       "3                                   NaN  31357  tt0114885                en   \n",
       "4                                   NaN  11862  tt0113041                en   \n",
       "\n",
       "                original_title  \\\n",
       "0                    Toy Story   \n",
       "1                      Jumanji   \n",
       "2             Grumpier Old Men   \n",
       "3            Waiting to Exhale   \n",
       "4  Father of the Bride Part II   \n",
       "\n",
       "                                            overview popularity  \\\n",
       "0  Led by Woody, Andy's toys live happily in his ...  21.946943   \n",
       "1  When siblings Judy and Peter discover an encha...  17.015539   \n",
       "2  A family wedding reignites the ancient feud be...    11.7129   \n",
       "3  Cheated on, mistreated and stepped on, the wom...   3.859495   \n",
       "4  Just when George Banks has recovered from his ...   8.387519   \n",
       "\n",
       "                        poster_path  \\\n",
       "0  /rhIRbceoE9lR4veEXuwCC2wARtG.jpg   \n",
       "1  /vzmL6fP7aPKNKPRTFnZmiUfciyV.jpg   \n",
       "2  /6ksm1sjKMFLbO7UY2i6G1ju9SML.jpg   \n",
       "3  /16XOMpEaLWkrcPqSQqhTmeJuqQl.jpg   \n",
       "4  /e64sOI48hQXyru7naBFyssKFxVd.jpg   \n",
       "\n",
       "                                production_companies  \\\n",
       "0     [{'name': 'Pixar Animation Studios', 'id': 3}]   \n",
       "1  [{'name': 'TriStar Pictures', 'id': 559}, {'na...   \n",
       "2  [{'name': 'Warner Bros.', 'id': 6194}, {'name'...   \n",
       "3  [{'name': 'Twentieth Century Fox Film Corporat...   \n",
       "4  [{'name': 'Sandollar Productions', 'id': 5842}...   \n",
       "\n",
       "                                production_countries release_date  \\\n",
       "0  [{'iso_3166_1': 'US', 'name': 'United States o...   1995-10-30   \n",
       "1  [{'iso_3166_1': 'US', 'name': 'United States o...   1995-12-15   \n",
       "2  [{'iso_3166_1': 'US', 'name': 'United States o...   1995-12-22   \n",
       "3  [{'iso_3166_1': 'US', 'name': 'United States o...   1995-12-22   \n",
       "4  [{'iso_3166_1': 'US', 'name': 'United States o...   1995-02-10   \n",
       "\n",
       "       revenue  runtime                                   spoken_languages  \\\n",
       "0  373554033.0     81.0           [{'iso_639_1': 'en', 'name': 'English'}]   \n",
       "1  262797249.0    104.0  [{'iso_639_1': 'en', 'name': 'English'}, {'iso...   \n",
       "2          0.0    101.0           [{'iso_639_1': 'en', 'name': 'English'}]   \n",
       "3   81452156.0    127.0           [{'iso_639_1': 'en', 'name': 'English'}]   \n",
       "4   76578911.0    106.0           [{'iso_639_1': 'en', 'name': 'English'}]   \n",
       "\n",
       "     status                                            tagline  \\\n",
       "0  Released                                                NaN   \n",
       "1  Released          Roll the dice and unleash the excitement!   \n",
       "2  Released  Still Yelling. Still Fighting. Still Ready for...   \n",
       "3  Released  Friends are the people who let you be yourself...   \n",
       "4  Released  Just When His World Is Back To Normal... He's ...   \n",
       "\n",
       "                         title  video  vote_average  vote_count  \n",
       "0                    Toy Story  False           7.7      5415.0  \n",
       "1                      Jumanji  False           6.9      2413.0  \n",
       "2             Grumpier Old Men  False           6.5        92.0  \n",
       "3            Waiting to Exhale  False           6.1        34.0  \n",
       "4  Father of the Bride Part II  False           5.7       173.0  "
      ]
     },
     "metadata": {},
     "output_type": "display_data"
    }
   ],
   "source": [
    "# 2. Chargement des données\n",
    "print(\"Chargement des données...\")\n",
    "df = pd.read_csv('movies_metadata.csv')\n",
    "print(f\"Dimensions du dataset: {df.shape}\")\n",
    "\n",
    "print(\"\\nAperçu des premières lignes:\")\n",
    "display(df.head())"
   ]
  },
  {
   "cell_type": "code",
   "execution_count": 4,
   "metadata": {},
   "outputs": [
    {
     "name": "stdout",
     "output_type": "stream",
     "text": [
      "\n",
      "Colonnes disponibles:\n",
      "['adult', 'belongs_to_collection', 'budget', 'genres', 'homepage', 'id', 'imdb_id', 'original_language', 'original_title', 'overview', 'popularity', 'poster_path', 'production_companies', 'production_countries', 'release_date', 'revenue', 'runtime', 'spoken_languages', 'status', 'tagline', 'title', 'video', 'vote_average', 'vote_count']\n"
     ]
    }
   ],
   "source": [
    "# Affichage des colonnes disponibles\n",
    "print(\"\\nColonnes disponibles:\")\n",
    "print(df.columns.tolist())\n"
   ]
  },
  {
   "cell_type": "code",
   "execution_count": 5,
   "metadata": {},
   "outputs": [
    {
     "name": "stdout",
     "output_type": "stream",
     "text": [
      "\n",
      "Prétraitement des variables numériques...\n"
     ]
    }
   ],
   "source": [
    "\n",
    "# 3. Prétraitement des données numériques\n",
    "print(\"\\nPrétraitement des variables numériques...\")\n",
    "\n",
    "# Conversion en types numériques\n",
    "df['popularity'] = pd.to_numeric(df['popularity'], errors='coerce')\n",
    "df['revenue'] = pd.to_numeric(df['revenue'], errors='coerce')\n",
    "df['vote_average'] = pd.to_numeric(df['vote_average'], errors='coerce')"
   ]
  },
  {
   "cell_type": "markdown",
   "metadata": {},
   "source": [
    "#### Analyse des statistiques descriptives\n",
    "\n",
    "L'analyse descriptive des trois variables cibles (revenue, popularity, vote_average) montre des distributions très différentes :\n",
    "\n",
    "- Le revenue présente une distribution fortement asymétrique avec beaucoup de valeurs nulles (médiane à 0$) et quelques valeurs très élevées (max à 2.79B$), suggérant que peu de films génèrent des revenus très importants.\n",
    "\n",
    "- La popularité suit un schéma similaire avec une forte asymétrie : la plupart des films ont une popularité faible (médiane à 1.13) tandis que quelques-uns atteignent des scores très élevés (max à 547).\n",
    "\n",
    "- Les notes moyennes (vote_average) montrent une distribution plus équilibrée, centrée autour de 5.6/10, avec la majorité des films notés entre 5 et 6.8.\n",
    "\n",
    "Ces observations suggèrent qu'une transformation des données (notamment pour revenue et popularity) sera nécessaire avant la modélisation."
   ]
  },
  {
   "cell_type": "code",
   "execution_count": 6,
   "metadata": {},
   "outputs": [
    {
     "name": "stdout",
     "output_type": "stream",
     "text": [
      "\n",
      "Statistiques descriptives des variables cibles:\n",
      "            revenue    popularity  vote_average\n",
      "count  4.546000e+04  45460.000000  45460.000000\n",
      "mean   1.120935e+07      2.921478      5.618207\n",
      "std    6.433225e+07      6.005414      1.924216\n",
      "min    0.000000e+00      0.000000      0.000000\n",
      "25%    0.000000e+00      0.385948      5.000000\n",
      "50%    0.000000e+00      1.127685      6.000000\n",
      "75%    0.000000e+00      3.678902      6.800000\n",
      "max    2.787965e+09    547.488298     10.000000\n"
     ]
    }
   ],
   "source": [
    "\n",
    "# 4. Analyse descriptive initiale\n",
    "print(\"\\nStatistiques descriptives des variables cibles:\")\n",
    "target_vars = ['revenue', 'popularity', 'vote_average']\n",
    "print(df[target_vars].describe())\n"
   ]
  },
  {
   "cell_type": "markdown",
   "metadata": {},
   "source": [
    "#### Analyse des valeurs manquantes\n",
    "\n",
    "L'analyse des valeurs manquantes dans notre dataset montre un très faible taux de données manquantes (0.01%) pour chacune des variables cibles (revenue, popularity et vote_average), avec seulement 6 valeurs manquantes par variable. Ce faible pourcentage n'aura pas d'impact significatif sur notre modélisation et ces valeurs pourront être simplement supprimées ou imputées sans affecter la qualité de l'analyse."
   ]
  },
  {
   "cell_type": "code",
   "execution_count": 7,
   "metadata": {},
   "outputs": [
    {
     "name": "stdout",
     "output_type": "stream",
     "text": [
      "\n",
      "Analyse des valeurs manquantes:\n",
      "revenue: 6 valeurs manquantes (0.01%)\n",
      "popularity: 6 valeurs manquantes (0.01%)\n",
      "vote_average: 6 valeurs manquantes (0.01%)\n"
     ]
    }
   ],
   "source": [
    "\n",
    "# 5. Analyse des valeurs manquantes\n",
    "print(\"\\nAnalyse des valeurs manquantes:\")\n",
    "missing_values = df[target_vars].isnull().sum()\n",
    "missing_pct = (missing_values / len(df)) * 100\n",
    "for var, missing, pct in zip(target_vars, missing_values, missing_pct):\n",
    "    print(f\"{var}: {missing} valeurs manquantes ({pct:.2f}%)\")"
   ]
  },
  {
   "cell_type": "markdown",
   "metadata": {},
   "source": [
    "#### Analyse des distributions\n"
   ]
  },
  {
   "cell_type": "code",
   "execution_count": 8,
   "metadata": {},
   "outputs": [
    {
     "data": {
      "image/png": "[encoded data removed]",
      "text/plain": [
       "<Figure size 1500x500 with 3 Axes>"
      ]
     },
     "metadata": {},
     "output_type": "display_data"
    }
   ],
   "source": [
    "\n",
    "# 6. Visualisations des distributions\n",
    "\n",
    "# Revenue\n",
    "plt.figure(figsize=(15, 5))\n",
    "plt.subplot(131)\n",
    "plt.hist(df[df['revenue'] > 0]['revenue'], bins=50)\n",
    "plt.title('Distribution des revenus (non-nuls)')\n",
    "plt.xlabel('Revenue')\n",
    "plt.ylabel('Fréquence')\n",
    "plt.yscale('log')\n",
    "\n",
    "# Popularity\n",
    "plt.subplot(132)\n",
    "plt.hist(df[df['popularity'].notna()]['popularity'], bins=50)\n",
    "plt.title('Distribution de la popularité')\n",
    "plt.xlabel('Popularité')\n",
    "plt.ylabel('Fréquence')\n",
    "plt.yscale('log')\n",
    "\n",
    "# Vote Average\n",
    "plt.subplot(133)\n",
    "plt.hist(df[df['vote_average'].notna()]['vote_average'], bins=20)\n",
    "plt.title('Distribution des notes moyennes')\n",
    "plt.xlabel('Note moyenne')\n",
    "plt.ylabel('Fréquence')\n",
    "\n",
    "plt.tight_layout()\n",
    "plt.show()\n"
   ]
  },
  {
   "cell_type": "markdown",
   "metadata": {},
   "source": [
    "\n",
    "La visualisation des distributions de nos trois variables cibles révèle des patterns distincts :\n",
    "\n",
    "- Les revenus (revenue) montrent une distribution fortement asymétrique avec une longue queue à droite, indiquant que la majorité des films génèrent des revenus modestes tandis qu'un petit nombre de films produisent des revenus exceptionnellement élevés.\n",
    "\n",
    "- La popularité suit une tendance similaire avec une distribution très déséquilibrée : beaucoup de films ont une faible popularité et quelques-uns seulement atteignent des niveaux de popularité très élevés.\n",
    "\n",
    "- Les notes moyennes présentent une distribution plus proche d'une normale, centrée autour de 6-7/10, avec une légère asymétrie négative. Cette distribution plus équilibrée suggère une répartition plus uniforme des notes attribuées aux films.\n",
    "\n",
    "Ces observations confirment la nécessité d'appliquer des transformations aux variables revenue et popularity avant la modélisation, tandis que vote_average pourra être utilisée telle quelle."
   ]
  },
  {
   "cell_type": "markdown",
   "metadata": {},
   "source": [
    "#### Analyse des corrélations"
   ]
  },
  {
   "cell_type": "code",
   "execution_count": 9,
   "metadata": {},
   "outputs": [
    {
     "data": {
      "image/png": "[encoded data removed]",
      "text/plain": [
       "<Figure size 800x600 with 2 Axes>"
      ]
     },
     "metadata": {},
     "output_type": "display_data"
    }
   ],
   "source": [
    "\n",
    "# 7. Analyse des corrélations\n",
    "correlation_matrix = df[target_vars].corr()\n",
    "plt.figure(figsize=(8, 6))\n",
    "sns.heatmap(correlation_matrix, annot=True, cmap='coolwarm', center=0)\n",
    "plt.title('Matrice de corrélation')\n",
    "plt.show()\n"
   ]
  },
  {
   "cell_type": "markdown",
   "metadata": {},
   "source": [
    "\n",
    "\n",
    "La matrice de corrélation entre nos trois variables cibles révèle des relations intéressantes :\n",
    "\n",
    "- Une corrélation modérée positive (0.51) entre revenue et popularity, suggérant que les films plus populaires tendent à générer plus de revenus.\n",
    "\n",
    "- Des corrélations très faibles entre vote_average et les autres variables (0.084 avec revenue et 0.15 avec popularity), indiquant que la note moyenne d'un film est largement indépendante de son succès commercial ou de sa popularité.\n",
    "\n",
    "Ces résultats suggèrent que chaque variable apporte une information relativement indépendante et qu'il sera pertinent de les modéliser séparément."
   ]
  },
  {
   "cell_type": "markdown",
   "metadata": {},
   "source": [
    "#### Analyse statistique détaillée\n",
    "\n",
    "L'analyse détaillée des statistiques pour chaque variable révèle des caractéristiques distinctes :\n",
    "\n",
    "La distribution du revenue montre une forte disparité (écart-type de 64M$) avec une médiane à 0$ et une moyenne à 11.2M$, confirmant une asymétrie très positive (skewness de 12.27). Les valeurs s'étendent de 0$ à 2.8B$.\n",
    "\n",
    "La popularité présente une asymétrie encore plus marquée (skewness de 29.23) avec une médiane (1.13) très inférieure à la moyenne (2.92). Les valeurs vont de 0 à 547.49.\n",
    "\n",
    "Les notes moyennes montrent une distribution plus équilibrée autour d'une moyenne de 5.62 et une médiane de 6.00, avec une légère asymétrie négative (skewness de -1.52). L'échelle va de 0 à 10.\n",
    "\n",
    "Ces statistiques confirment la nécessité de transformer les variables revenue et popularity avant la modélisation."
   ]
  },
  {
   "cell_type": "code",
   "execution_count": 10,
   "metadata": {},
   "outputs": [
    {
     "name": "stdout",
     "output_type": "stream",
     "text": [
      "\n",
      "Analyse statistique détaillée:\n",
      "\n",
      "Statistiques pour revenue:\n",
      "Nombre de valeurs non-nulles: 45460\n",
      "Moyenne: 11209348.54\n",
      "Médiane: 0.00\n",
      "Écart-type: 64332246.74\n",
      "Skewness: 12.27\n",
      "Min: 0.00\n",
      "Max: 2787965087.00\n",
      "\n",
      "Statistiques pour popularity:\n",
      "Nombre de valeurs non-nulles: 45460\n",
      "Moyenne: 2.92\n",
      "Médiane: 1.13\n",
      "Écart-type: 6.01\n",
      "Skewness: 29.23\n",
      "Min: 0.00\n",
      "Max: 547.49\n",
      "\n",
      "Statistiques pour vote_average:\n",
      "Nombre de valeurs non-nulles: 45460\n",
      "Moyenne: 5.62\n",
      "Médiane: 6.00\n",
      "Écart-type: 1.92\n",
      "Skewness: -1.52\n",
      "Min: 0.00\n",
      "Max: 10.00\n"
     ]
    }
   ],
   "source": [
    "\n",
    "# 8. Analyse statistique détaillée\n",
    "print(\"\\nAnalyse statistique détaillée:\")\n",
    "\n",
    "for var in target_vars:\n",
    "    data = df[var].dropna()\n",
    "    print(f\"\\nStatistiques pour {var}:\")\n",
    "    print(f\"Nombre de valeurs non-nulles: {len(data)}\")\n",
    "    print(f\"Moyenne: {data.mean():.2f}\")\n",
    "    print(f\"Médiane: {data.median():.2f}\")\n",
    "    print(f\"Écart-type: {data.std():.2f}\")\n",
    "    print(f\"Skewness: {data.skew():.2f}\")\n",
    "    print(f\"Min: {data.min():.2f}\")\n",
    "    print(f\"Max: {data.max():.2f}\")"
   ]
  },
  {
   "cell_type": "markdown",
   "metadata": {},
   "source": [
    "#### Analyse des boxplots - Distribution et outliers\n",
    "\n",
    "Les boxplots révèlent la présence et l'impact des valeurs extrêmes dans nos trois variables :\n",
    "\n",
    "- Le revenue présente de nombreux outliers très éloignés de la médiane, avec certains films générant des revenus exceptionnellement élevés (jusqu'à 2.8 milliards).\n",
    "\n",
    "- La popularity montre également plusieurs valeurs extrêmes, avec quelques films atteignant des scores de popularité très élevés par rapport à la masse des données.\n",
    "\n",
    "- Le vote_average a une distribution plus compacte, avec relativement peu d'outliers, confirmant sa répartition plus homogène entre 0 et 10.\n",
    "\n",
    "Ces visualisations confirment la nécessité d'une gestion appropriée des outliers, particulièrement pour revenue et popularity, lors de la phase de modélisation."
   ]
  },
  {
   "cell_type": "code",
   "execution_count": 11,
   "metadata": {},
   "outputs": [
    {
     "data": {
      "image/png": "[encoded data removed]",
      "text/plain": [
       "<Figure size 1500x500 with 3 Axes>"
      ]
     },
     "metadata": {},
     "output_type": "display_data"
    }
   ],
   "source": [
    "\n",
    "# 9. Boxplots pour visualiser les outliers\n",
    "plt.figure(figsize=(15, 5))\n",
    "\n",
    "plt.subplot(131)\n",
    "df[df['revenue'] > 0]['revenue'].plot(kind='box')\n",
    "plt.title('Boxplot des revenus > 0')\n",
    "\n",
    "plt.subplot(132)\n",
    "df[df['popularity'].notna()]['popularity'].plot(kind='box')\n",
    "plt.title('Boxplot de la popularité')\n",
    "\n",
    "plt.subplot(133)\n",
    "df[df['vote_average'].notna()]['vote_average'].plot(kind='box')\n",
    "plt.title('Boxplot des notes moyennes')\n",
    "\n",
    "plt.tight_layout()\n",
    "plt.show()\n"
   ]
  },
  {
   "cell_type": "markdown",
   "metadata": {},
   "source": [
    "#### Résumé des observations clés\n",
    "\n",
    "L'analyse globale du dataset révèle trois patterns distincts :\n",
    "\n",
    "Les revenus montrent une distribution extrêmement déséquilibrée : sur 45,460 films, 38,052 ont un revenu nul, tandis que la moyenne atteint 11.2M$, illustrant l'écart considérable entre les blockbusters et la majorité des films.\n",
    "\n",
    "La popularité suit une tendance similaire avec une médiane (1.13) nettement inférieure à la moyenne (2.92), indiquant qu'un petit nombre de films captent la majorité de l'attention.\n",
    "\n",
    "Les notes présentent une distribution plus équilibrée, avec une médiane (6.0) proche de la moyenne (5.62), suggérant une évaluation plus uniforme des films.\n",
    "\n",
    "Ces observations seront déterminantes pour guider nos choix de prétraitement et de modélisation."
   ]
  },
  {
   "cell_type": "code",
   "execution_count": 12,
   "metadata": {},
   "outputs": [
    {
     "name": "stdout",
     "output_type": "stream",
     "text": [
      "\n",
      "Observations clés:\n",
      "1. Distribution des revenus:\n",
      "   - 38052 films ont un revenu nul\n",
      "   - Revenu médian: $0.00\n",
      "   - Revenu moyen: $11,209,348.54\n",
      "\n",
      "2. Distribution de la popularité:\n",
      "   - Popularité médiane: 1.13\n",
      "   - Popularité moyenne: 2.92\n",
      "\n",
      "3. Distribution des notes:\n",
      "   - Note médiane: 6.00\n",
      "   - Note moyenne: 5.62\n"
     ]
    }
   ],
   "source": [
    "\n",
    "# 10. Résumé des observations clés\n",
    "print(\"\\nObservations clés:\")\n",
    "print(\"1. Distribution des revenus:\")\n",
    "print(f\"   - {(df['revenue'] == 0).sum()} films ont un revenu nul\")\n",
    "print(f\"   - Revenu médian: ${df['revenue'].median():,.2f}\")\n",
    "print(f\"   - Revenu moyen: ${df['revenue'].mean():,.2f}\")\n",
    "\n",
    "print(\"\\n2. Distribution de la popularité:\")\n",
    "print(f\"   - Popularité médiane: {df['popularity'].median():.2f}\")\n",
    "print(f\"   - Popularité moyenne: {df['popularity'].mean():.2f}\")\n",
    "\n",
    "print(\"\\n3. Distribution des notes:\")\n",
    "print(f\"   - Note médiane: {df['vote_average'].median():.2f}\")\n",
    "print(f\"   - Note moyenne: {df['vote_average'].mean():.2f}\")"
   ]
  },
  {
   "cell_type": "markdown",
   "metadata": {},
   "source": [
    "#### Analyse des distributions et implications pour la modélisation\n",
    "\n",
    "La distribution des variables revenue et popularity suit une décroissance exponentielle caractéristique, avec des implications importantes pour la modélisation :\n",
    "\n",
    "- Un petit nombre de films concentre la majorité des revenus et de la popularité\n",
    "- La grande majorité des films présente des valeurs faibles ou nulles\n",
    "- Cette distribution très déséquilibrée pose un défi pour la modélisation\n",
    "\n",
    "Pour établir une base de comparaison pertinente, il est judicieux de calculer les métriques (R2 et MSE) pour des prédicteurs simples :\n",
    "- La moyenne\n",
    "- La médiane \n",
    "- Une valeur nulle (0)\n",
    "\n",
    "Ces baselines nous permettront d'évaluer si nos modèles plus complexes apportent une réelle valeur ajoutée par rapport à ces prédictions naïves."
   ]
  },
  {
   "cell_type": "code",
   "execution_count": 13,
   "metadata": {},
   "outputs": [],
   "source": [
    "from sklearn.metrics import r2_score, mean_squared_error\n",
    "import numpy as np"
   ]
  },
  {
   "cell_type": "code",
   "execution_count": 14,
   "metadata": {},
   "outputs": [
    {
     "name": "stdout",
     "output_type": "stream",
     "text": [
      "Baselines pour Revenue:\n",
      "Revenue metrics: {'R2_mean': 0.0, 'MSE_mean': 4138017360390860.5, 'R2_median': -0.030356647353839694, 'MSE_median': 4263633694144312.0, 'R2_zero': -0.030356647353839694, 'MSE_zero': 4263633694144312.0}\n"
     ]
    }
   ],
   "source": [
    "\n",
    "# Calcul des baselines pour Revenue\n",
    "print(\"Baselines pour Revenue:\")\n",
    "y_true = df['revenue'].astype('float').fillna(0)  # Remplacement des NaN par 0\n",
    "mean = y_true.mean()\n",
    "median = y_true.median()\n",
    "\n",
    "# Prédictions avec les différentes baselines\n",
    "y_pred_mean = np.full_like(y_true, mean)\n",
    "y_pred_median = np.full_like(y_true, median)\n",
    "y_pred_zero = np.zeros_like(y_true)\n",
    "\n",
    "# Calcul des métriques\n",
    "m_rev = {\n",
    "    'R2_mean': r2_score(y_true, y_pred_mean),\n",
    "    'MSE_mean': mean_squared_error(y_true, y_pred_mean),\n",
    "    'R2_median': r2_score(y_true, y_pred_median),\n",
    "    'MSE_median': mean_squared_error(y_true, y_pred_median),\n",
    "    'R2_zero': r2_score(y_true, y_pred_zero),\n",
    "    'MSE_zero': mean_squared_error(y_true, y_pred_zero)\n",
    "}\n",
    "print(\"Revenue metrics:\", m_rev)\n"
   ]
  },
  {
   "cell_type": "markdown",
   "metadata": {},
   "source": [
    "\n",
    "Les baselines établies pour la prédiction des revenus montrent des performances limitées :\n",
    "- La prédiction par la moyenne donne un R² de 0 (référence)\n",
    "- Les prédictions par la médiane et par zéro donnent des R² légèrement négatifs (-0.03)\n",
    "- Les MSE sont très élevées dans tous les cas, reflétant la grande variance des revenus\n",
    "\n",
    "Ces faibles performances serviront de référence minimale pour évaluer nos modèles plus sophistiqués."
   ]
  },
  {
   "cell_type": "code",
   "execution_count": 15,
   "metadata": {},
   "outputs": [
    {
     "name": "stdout",
     "output_type": "stream",
     "text": [
      "\n",
      "Baselines pour Popularity:\n",
      "Popularity metrics: {'R2_mean': 0.0, 'MSE_mean': 36.060574604581426, 'R2_median': -0.08921926639175215, 'MSE_median': 39.27787261646723, 'R2_zero': -0.23662360570454166, 'MSE_zero': 44.59335779129511}\n"
     ]
    }
   ],
   "source": [
    "\n",
    "# Baselines pour Popularity\n",
    "print(\"\\nBaselines pour Popularity:\")\n",
    "y_true = df['popularity'].astype('float').fillna(0)\n",
    "mean = y_true.mean()\n",
    "median = y_true.median()\n",
    "\n",
    "y_pred_mean = np.full_like(y_true, mean)\n",
    "y_pred_median = np.full_like(y_true, median)\n",
    "y_pred_zero = np.zeros_like(y_true)\n",
    "\n",
    "m_pop = {\n",
    "    'R2_mean': r2_score(y_true, y_pred_mean),\n",
    "    'MSE_mean': mean_squared_error(y_true, y_pred_mean),\n",
    "    'R2_median': r2_score(y_true, y_pred_median),\n",
    "    'MSE_median': mean_squared_error(y_true, y_pred_median),\n",
    "    'R2_zero': r2_score(y_true, y_pred_zero),\n",
    "    'MSE_zero': mean_squared_error(y_true, y_pred_zero)\n",
    "}\n",
    "print(\"Popularity metrics:\", m_pop)\n"
   ]
  },
  {
   "cell_type": "markdown",
   "metadata": {},
   "source": [
    "\n",
    "\n",
    "Les métriques de base pour la popularité révèlent une prédiction difficile :\n",
    "- Prédiction par la moyenne : R² = 0 (baseline de référence)\n",
    "- Prédiction par la médiane : R² = -0.089 (moins performante)\n",
    "- Prédiction à zéro : R² = -0.237 (performance la plus faible)\n",
    "\n",
    "Les MSE restent modérées comparées aux revenus, mais les R² négatifs suggèrent que même des prédictions simples sont peu fiables."
   ]
  },
  {
   "cell_type": "code",
   "execution_count": 16,
   "metadata": {},
   "outputs": [
    {
     "name": "stdout",
     "output_type": "stream",
     "text": [
      "\n",
      "Baselines pour Vote Average:\n",
      "Vote Average metrics: {'R2_mean': 0.0, 'MSE_mean': 3.7062020060994336, 'R2_median': -0.039483119102943665, 'MSE_median': 3.852534421325826, 'R2_zero': -8.514355652152425, 'MSE_zero': 35.2621240047508}\n"
     ]
    }
   ],
   "source": [
    "\n",
    "# Baselines pour Vote Average\n",
    "print(\"\\nBaselines pour Vote Average:\")\n",
    "y_true = df['vote_average'].astype('float').fillna(0)\n",
    "mean = y_true.mean()\n",
    "median = y_true.median()\n",
    "\n",
    "y_pred_mean = np.full_like(y_true, mean)\n",
    "y_pred_median = np.full_like(y_true, median)\n",
    "y_pred_zero = np.zeros_like(y_true)\n",
    "\n",
    "m_vot = {\n",
    "    'R2_mean': r2_score(y_true, y_pred_mean),\n",
    "    'MSE_mean': mean_squared_error(y_true, y_pred_mean),\n",
    "    'R2_median': r2_score(y_true, y_pred_median),\n",
    "    'MSE_median': mean_squared_error(y_true, y_pred_median),\n",
    "    'R2_zero': r2_score(y_true, y_pred_zero),\n",
    "    'MSE_zero': mean_squared_error(y_true, y_pred_zero)\n",
    "}\n",
    "print(\"Vote Average metrics:\", m_vot)\n"
   ]
  },
  {
   "cell_type": "markdown",
   "metadata": {},
   "source": [
    "\n",
    "Les baselines pour les notes moyennes montrent des patterns intéressants :\n",
    "- La moyenne sert de référence (R² = 0)\n",
    "- La médiane performe légèrement moins bien (R² = -0.039)\n",
    "- La prédiction à zéro est particulièrement mauvaise (R² = -8.51)\n",
    "\n",
    "Ces résultats indiquent que les notes moyennes, bien que plus stables, restent difficiles à prédire avec des modèles naïfs."
   ]
  },
  {
   "cell_type": "code",
   "execution_count": 17,
   "metadata": {},
   "outputs": [
    {
     "name": "stdout",
     "output_type": "stream",
     "text": [
      "\n",
      "Résumé des performances (R2):\n",
      "         Revenue  Popularity  Vote_Average\n",
      "Mean    0.000000    0.000000      0.000000\n",
      "Median -0.030357   -0.089219     -0.039483\n",
      "Zero   -0.030357   -0.236624     -8.514356\n"
     ]
    }
   ],
   "source": [
    "\n",
    "# Création d'un résumé des performances sous forme de DataFrame\n",
    "performance_summary = pd.DataFrame({\n",
    "    'Revenue': [m_rev['R2_mean'], m_rev['R2_median'], m_rev['R2_zero']],\n",
    "    'Popularity': [m_pop['R2_mean'], m_pop['R2_median'], m_pop['R2_zero']],\n",
    "    'Vote_Average': [m_vot['R2_mean'], m_vot['R2_median'], m_vot['R2_zero']]\n",
    "}, index=['Mean', 'Median', 'Zero'])\n",
    "\n",
    "print(\"\\nRésumé des performances (R2):\")\n",
    "print(performance_summary)"
   ]
  },
  {
   "cell_type": "markdown",
   "metadata": {},
   "source": [
    "#### Analyse des performances des baselines\n",
    "\n",
    "Les résultats des modèles de base (mean, median, zero) montrent des performances très faibles sur l'ensemble des variables :\n",
    "\n",
    "Revenue\n",
    "\n",
    "- La moyenne donne un R² de 0 (par définition)\n",
    "- La médiane et la prédiction à zéro donnent des R² légèrement négatifs (-0.03)\n",
    "- Les MSE sont très élevées à cause de l'échelle des revenus\n",
    "\n",
    "Popularity\n",
    "\n",
    "- La moyenne sert de référence (R² = 0)\n",
    "- La médiane performe légèrement moins bien (R² = -0.09)\n",
    "- Prédire zéro donne les pires résultats (R² = -0.24)\n",
    "\n",
    "Vote Average\n",
    "\n",
    "- La moyenne reste la meilleure baseline\n",
    "- Les prédictions à zéro sont particulièrement mauvaises (R² = -8.51)\n",
    "- La médiane est proche des performances de la moyenne\n",
    "\n",
    "Ces résultats serviront de référence pour évaluer nos modèles plus complexes : tout modèle devra au minimum surpasser ces baselines pour être considéré comme utile."
   ]
  },
  {
   "cell_type": "markdown",
   "metadata": {},
   "source": [
    "### Premier modèle ML classique"
   ]
  },
  {
   "cell_type": "code",
   "execution_count": 18,
   "metadata": {},
   "outputs": [],
   "source": [
    "# 1. Import des bibliothèques nécessaires\n",
    "from sklearn.model_selection import GridSearchCV\n",
    "from sklearn.ensemble import AdaBoostRegressor\n",
    "from sklearn.tree import DecisionTreeRegressor"
   ]
  },
  {
   "cell_type": "markdown",
   "metadata": {},
   "source": [
    "Conversion des variables numériques (popularity, budget, runtime, revenue, vote_average) en format approprié avec gestion des erreurs. Les valeurs non numériques sont transformées en NaN pour assurer la cohérence des données avant la modélisation. Cette étape est cruciale pour garantir la qualité des analyses statistiques à venir."
   ]
  },
  {
   "cell_type": "code",
   "execution_count": 19,
   "metadata": {},
   "outputs": [],
   "source": [
    "# 2. Préparation des données avec nettoyage\n",
    "# Conversion des colonnes en numérique avec gestion des erreurs\n",
    "df['popularity'] = pd.to_numeric(df['popularity'], errors='coerce')\n",
    "df['budget'] = pd.to_numeric(df['budget'], errors='coerce')\n",
    "df['runtime'] = pd.to_numeric(df['runtime'], errors='coerce')\n",
    "df['revenue'] = pd.to_numeric(df['revenue'], errors='coerce')\n",
    "df['vote_average'] = pd.to_numeric(df['vote_average'], errors='coerce')"
   ]
  },
  {
   "cell_type": "code",
   "execution_count": 20,
   "metadata": {},
   "outputs": [],
   "source": [
    "# Remplacement des NaN par 0\n",
    "df = df.fillna(0)\n",
    "\n",
    "# Création du dataset avec les features sélectionnées\n",
    "dataset = df[['adult', 'budget', 'runtime', 'original_language', 'popularity', 'vote_average', 'revenue']]\n"
   ]
  },
  {
   "cell_type": "markdown",
   "metadata": {},
   "source": [
    "\n",
    "Transformation des variables catégorielles en format numérique :\n",
    "- Conversion binaire de la variable 'adult' (True/False → 1/0)\n",
    "- Encodage des langues originales en indices numériques via un dictionnaire de correspondance\n",
    "\n",
    "Cette étape permet d'utiliser ces variables dans nos modèles d'apprentissage automatique."
   ]
  },
  {
   "cell_type": "code",
   "execution_count": 21,
   "metadata": {},
   "outputs": [],
   "source": [
    "# 3. Transformation des variables catégorielles\n",
    "# Convertir 'adult' en numérique\n",
    "dataset['adult'] = dataset.adult.apply(lambda x: 1 if x==True else 0)\n",
    "\n",
    "# Encoder original_language\n",
    "from collections import Counter\n",
    "dic_language = Counter(dataset.original_language)\n",
    "dic_language = {list(dic_language.keys())[i]: i for i in range(len(dic_language))}\n",
    "dataset['original_language'] = dataset.original_language.apply(lambda x: dic_language[x])\n"
   ]
  },
  {
   "cell_type": "markdown",
   "metadata": {},
   "source": [
    "### Configuration de GridSearchCV avec AdaBoost\n",
    "\n",
    "Configuration de la recherche par grille pour optimiser les hyperparamètres d'AdaBoost avec :\n",
    "- Trois profondeurs différentes d'arbres de décision (2, 3, 10)\n",
    "- Quatre taux d'apprentissage (0.01, 0.1, 1.0, 10)\n",
    "- Deux valeurs pour le nombre d'estimateurs (10, 50)\n",
    "\n",
    "Cette grille permettra de trouver la meilleure combinaison d'hyperparamètres pour notre modèle."
   ]
  },
  {
   "cell_type": "code",
   "execution_count": 22,
   "metadata": {},
   "outputs": [],
   "source": [
    "\n",
    "# 4. Configuration de GridSearchCV avec AdaBoost\n",
    "params_grid = {\n",
    "    'base_estimator': [\n",
    "        DecisionTreeRegressor(max_depth=2),\n",
    "        DecisionTreeRegressor(max_depth=3),\n",
    "        DecisionTreeRegressor(max_depth=10)\n",
    "    ],\n",
    "    'learning_rate': [0.01, 0.1, 1.0, 10],\n",
    "    'n_estimators': [10, 50]\n",
    "}"
   ]
  },
  {
   "cell_type": "code",
   "execution_count": 23,
   "metadata": {},
   "outputs": [
    {
     "name": "stdout",
     "output_type": "stream",
     "text": [
      "Entraînement des modèles...\n",
      "\n",
      "Optimisation pour Revenue:\n",
      "Meilleur score R2: 0.5965907358505144\n",
      "Meilleurs paramètres: {'base_estimator': DecisionTreeRegressor(max_depth=3), 'learning_rate': 0.01, 'n_estimators': 50}\n"
     ]
    }
   ],
   "source": [
    "\n",
    "# 5. Entraînement et évaluation pour chaque variable cible\n",
    "print(\"Entraînement des modèles...\")\n",
    "\n",
    "# Revenue\n",
    "print(\"\\nOptimisation pour Revenue:\")\n",
    "rg = GridSearchCV(AdaBoostRegressor(), param_grid=params_grid, scoring='r2', cv=3)\n",
    "X = dataset[['adult', 'budget', 'runtime', 'original_language']]\n",
    "y = dataset['revenue']\n",
    "rg.fit(X, y)\n",
    "print(\"Meilleur score R2:\", rg.best_score_)\n",
    "print(\"Meilleurs paramètres:\", rg.best_params_)\n"
   ]
  },
  {
   "cell_type": "code",
   "execution_count": 24,
   "metadata": {},
   "outputs": [
    {
     "name": "stdout",
     "output_type": "stream",
     "text": [
      "\n",
      "Optimisation pour Popularity:\n",
      "Meilleur score R2: 0.15835073920816797\n",
      "Meilleurs paramètres: {'base_estimator': DecisionTreeRegressor(max_depth=3), 'learning_rate': 0.01, 'n_estimators': 50}\n"
     ]
    }
   ],
   "source": [
    "\n",
    "# Popularity\n",
    "print(\"\\nOptimisation pour Popularity:\")\n",
    "rg = GridSearchCV(AdaBoostRegressor(), param_grid=params_grid, scoring='r2', cv=3)\n",
    "y = dataset['popularity']\n",
    "rg.fit(X, y)\n",
    "print(\"Meilleur score R2:\", rg.best_score_)\n",
    "print(\"Meilleurs paramètres:\", rg.best_params_)\n",
    "\n"
   ]
  },
  {
   "cell_type": "code",
   "execution_count": 25,
   "metadata": {},
   "outputs": [
    {
     "name": "stdout",
     "output_type": "stream",
     "text": [
      "\n",
      "Optimisation pour Vote Average:\n",
      "Meilleur score R2: -0.025874954258766698\n",
      "Meilleurs paramètres: {'base_estimator': DecisionTreeRegressor(max_depth=10), 'learning_rate': 0.01, 'n_estimators': 10}\n"
     ]
    }
   ],
   "source": [
    "# Vote Average\n",
    "print(\"\\nOptimisation pour Vote Average:\")\n",
    "rg = GridSearchCV(AdaBoostRegressor(), param_grid=params_grid, scoring='r2', cv=3)\n",
    "y = dataset['vote_average']\n",
    "rg.fit(X, y)\n",
    "print(\"Meilleur score R2:\", rg.best_score_)\n",
    "print(\"Meilleurs paramètres:\", rg.best_params_)"
   ]
  },
  {
   "cell_type": "code",
   "execution_count": 26,
   "metadata": {},
   "outputs": [
    {
     "name": "stdout",
     "output_type": "stream",
     "text": [
      "\n",
      "Comparaison avec Random Forest:\n",
      "Random Forest - revenue: 0.5325\n",
      "Random Forest - popularity: -0.1810\n",
      "Random Forest - vote_average: -0.0908\n"
     ]
    }
   ],
   "source": [
    "\n",
    "# 6. Comparaison avec Random Forest\n",
    "print(\"\\nComparaison avec Random Forest:\")\n",
    "from sklearn.ensemble import RandomForestRegressor\n",
    "from sklearn.model_selection import cross_val_score\n",
    "\n",
    "targets = ['revenue', 'popularity', 'vote_average']\n",
    "for target in targets:\n",
    "    score = cross_val_score(\n",
    "        RandomForestRegressor(n_estimators=100),\n",
    "        X,\n",
    "        dataset[target],\n",
    "        scoring='r2',\n",
    "        cv=3\n",
    "    ).mean()\n",
    "    print(f\"Random Forest - {target}: {score:.4f}\")"
   ]
  },
  {
   "cell_type": "markdown",
   "metadata": {},
   "source": [
    "word2vec"
   ]
  },
  {
   "cell_type": "markdown",
   "metadata": {},
   "source": []
  },
  {
   "cell_type": "code",
   "execution_count": 29,
   "metadata": {},
   "outputs": [
    {
     "name": "stdout",
     "output_type": "stream",
     "text": [
      "Préparation des données pour Word2Vec...\n"
     ]
    },
    {
     "name": "stderr",
     "output_type": "stream",
     "text": [
      "100%|██████████| 45466/45466 [00:03<00:00, 15110.36it/s]\n"
     ]
    },
    {
     "name": "stdout",
     "output_type": "stream",
     "text": [
      "\n",
      "Entraînement du modèle Word2Vec...\n"
     ]
    }
   ],
   "source": [
    "# 1. Import des bibliothèques nécessaires\n",
    "from gensim.models import Word2Vec\n",
    "import numpy as np\n",
    "from tqdm import tqdm\n",
    "import pandas as pd\n",
    "import re\n",
    "\n",
    "# 2. Fonction de prétraitement simplifiée\n",
    "def preprocess_text(text):\n",
    "    if not isinstance(text, str):\n",
    "        return []\n",
    "    # Convertir en minuscules\n",
    "    text = text.lower()\n",
    "    # Supprimer la ponctuation\n",
    "    text = re.sub(r'[^\\w\\s]', ' ', text)\n",
    "    # Tokenization simple\n",
    "    tokens = text.split()\n",
    "    # Traitement des nombres\n",
    "    processed_tokens = []\n",
    "    for token in tokens:\n",
    "        try:\n",
    "            float(token)\n",
    "            processed_tokens.append('NUM')\n",
    "        except ValueError:\n",
    "            processed_tokens.append(token)\n",
    "    return processed_tokens\n",
    "\n",
    "# 3. Préparation des données\n",
    "print(\"Préparation des données pour Word2Vec...\")\n",
    "processed_tokens = []\n",
    "for text in tqdm(df['overview']):\n",
    "    processed_tokens.append(preprocess_text(text))\n",
    "df['processed_tokens'] = processed_tokens\n",
    "\n",
    "# 4. Entraînement du modèle Word2Vec\n",
    "print(\"\\nEntraînement du modèle Word2Vec...\")\n",
    "model = Word2Vec(\n",
    "    sentences=df['processed_tokens'].dropna(),\n",
    "    vector_size=100,\n",
    "    window=5,\n",
    "    min_count=5,\n",
    "    workers=4,sg=1\n",
    ")"
   ]
  },
  {
   "cell_type": "code",
   "execution_count": 30,
   "metadata": {},
   "outputs": [
    {
     "name": "stdout",
     "output_type": "stream",
     "text": [
      "\n",
      "Analyse des similarités entre mots...\n",
      "\n",
      "Mots similaires à 'american':\n",
      "african: 0.7238\n",
      "korean: 0.6944\n",
      "russian: 0.6868\n",
      "israeli: 0.6735\n",
      "finnish: 0.6682\n",
      "\n",
      "Mots similaires à 'love':\n",
      "madly: 0.6808\n",
      "romance: 0.6327\n",
      "affection: 0.6019\n",
      "romances: 0.5976\n",
      "friendship: 0.5937\n",
      "\n",
      "Mots similaires à 'woman':\n",
      "man: 0.6935\n",
      "widow: 0.6896\n",
      "schoolgirl: 0.6757\n",
      "gentleman: 0.6720\n",
      "girl: 0.6713\n",
      "\n",
      "Mots similaires à 'september':\n",
      "january: 0.9263\n",
      "february: 0.9193\n",
      "october: 0.9063\n",
      "november: 0.8871\n",
      "11th: 0.8799\n"
     ]
    }
   ],
   "source": [
    "\n",
    "# 5. Analyse des similarités\n",
    "print(\"\\nAnalyse des similarités entre mots...\")\n",
    "test_words = ['american', 'love', 'woman', 'september']\n",
    "for word in test_words:\n",
    "    try:\n",
    "        similar_words = model.wv.most_similar(word)\n",
    "        print(f\"\\nMots similaires à '{word}':\")\n",
    "        for w, score in similar_words[:5]:\n",
    "            print(f\"{w}: {score:.4f}\")\n",
    "    except KeyError:\n",
    "        print(f\"Le mot '{word}' n'est pas dans le vocabulaire\")"
   ]
  },
  {
   "cell_type": "code",
   "execution_count": 31,
   "metadata": {},
   "outputs": [
    {
     "name": "stdout",
     "output_type": "stream",
     "text": [
      "\n",
      "Création des vecteurs de documents...\n"
     ]
    },
    {
     "name": "stderr",
     "output_type": "stream",
     "text": [
      "100%|██████████| 45466/45466 [00:04<00:00, 9266.34it/s] \n"
     ]
    }
   ],
   "source": [
    "\n",
    "# 6. Création des vecteurs de documents\n",
    "def get_document_vector(tokens, model, vector_size=100):\n",
    "    vectors = []\n",
    "    for token in tokens:\n",
    "        try:\n",
    "            vector = model.wv[token]\n",
    "            vectors.append(vector)\n",
    "        except KeyError:\n",
    "            continue\n",
    "    return np.mean(vectors, axis=0) if vectors else np.zeros(vector_size)\n",
    "\n",
    "# Création des embeddings pour chaque description\n",
    "print(\"\\nCréation des vecteurs de documents...\")\n",
    "document_vectors = []\n",
    "for tokens in tqdm(df['processed_tokens']):\n",
    "    document_vectors.append(get_document_vector(tokens, model))\n",
    "document_vectors = np.array(document_vectors)\n"
   ]
  },
  {
   "cell_type": "code",
   "execution_count": 30,
   "metadata": {},
   "outputs": [
    {
     "name": "stdout",
     "output_type": "stream",
     "text": [
      "\n",
      "Analyse du modèle Word2Vec:\n",
      "Taille du vocabulaire: 22588\n",
      "Dimension des vecteurs: 100\n",
      "\n",
      "Statistiques sur les vecteurs de documents:\n",
      "Forme des vecteurs: (45466, 100)\n",
      "Moyenne globale: -0.0134\n",
      "Écart-type global: 0.3364\n"
     ]
    }
   ],
   "source": [
    "\n",
    "# 7. Analyse des résultats\n",
    "print(\"\\nAnalyse du modèle Word2Vec:\")\n",
    "print(f\"Taille du vocabulaire: {len(model.wv.key_to_index)}\")\n",
    "print(f\"Dimension des vecteurs: {model.vector_size}\")\n",
    "\n",
    "# 8. Statistiques sur les vecteurs\n",
    "print(\"\\nStatistiques sur les vecteurs de documents:\")\n",
    "print(f\"Forme des vecteurs: {document_vectors.shape}\")\n",
    "print(f\"Moyenne globale: {np.mean(document_vectors):.4f}\")\n",
    "print(f\"Écart-type global: {np.std(document_vectors):.4f}\")"
   ]
  },
  {
   "cell_type": "code",
   "execution_count": 31,
   "metadata": {},
   "outputs": [
    {
     "name": "stdout",
     "output_type": "stream",
     "text": [
      "\n",
      "Top 10 mots les plus fréquents:\n",
      "the: 138825 occurrences\n",
      "a: 99602 occurrences\n",
      "and: 75905 occurrences\n",
      "to: 73761 occurrences\n",
      "of: 70022 occurrences\n",
      "in: 48796 occurrences\n",
      "is: 36573 occurrences\n",
      "his: 36269 occurrences\n",
      "s: 26499 occurrences\n",
      "with: 23967 occurrences\n"
     ]
    }
   ],
   "source": [
    "\n",
    "# 9. Analyse du vocabulaire\n",
    "vocab = model.wv.key_to_index\n",
    "word_freqs = [(word, model.wv.get_vecattr(word, \"count\")) \n",
    "              for word in vocab]\n",
    "word_freqs = sorted(word_freqs, key=lambda x: x[1], reverse=True)\n",
    "\n",
    "print(\"\\nTop 10 mots les plus fréquents:\")\n",
    "for word, freq in word_freqs[:10]:\n",
    "    print(f\"{word}: {freq} occurrences\")"
   ]
  },
  {
   "cell_type": "code",
   "execution_count": 32,
   "metadata": {},
   "outputs": [],
   "source": [
    "from sklearn.manifold import TSNE\n",
    "import numpy as np\n",
    "\n",
    "def plot_words(model, words):\n",
    "    word_vectors = np.array([model.wv[word] for word in words])\n",
    "    tsne = TSNE(n_components=2)\n",
    "    reduced = tsne.fit_transform(word_vectors)\n",
    "    \n",
    "    plt.figure(figsize=(10, 6))\n",
    "    sns.scatterplot(x=reduced[:, 0], y=reduced[:, 1])\n",
    "    \n",
    "    for i, word in enumerate(words):\n",
    "        plt.annotate(word, (reduced[i, 0], reduced[i, 1]))\n",
    "    plt.show()"
   ]
  },
  {
   "cell_type": "code",
   "execution_count": null,
   "metadata": {},
   "outputs": [
    {
     "name": "stdout",
     "output_type": "stream",
     "text": [
      "Mots présents dans le vocabulaire: ['american', 'love', 'woman', 'family', 'war', 'romance']\n"
     ]
    },
    {
     "data": {
      "image/png": "[encoded data removed]",
      "text/plain": [
       "<Figure size 1000x600 with 1 Axes>"
      ]
     },
     "metadata": {},
     "output_type": "display_data"
    }
   ],
   "source": [
    "from sklearn.manifold import TSNE\n",
    "import numpy as np\n",
    "def plot_words(model, words):\n",
    "    # Récupération des vecteurs pour ces mots\n",
    "    word_vectors = np.array([model.wv[word] for word in words])\n",
    "    \n",
    "    # Configuration de t-SNE avec une perplexité adaptée\n",
    "    # Utilisons une perplexité plus petite, environ 5-10% du nombre de mots\n",
    "    perplexity = min(len(words)-1, 5)  # S'assure que la perplexité est plus petite que n_samples\n",
    "    tsne = TSNE(n_components=2, perplexity=perplexity, random_state=42)\n",
    "    reduced = tsne.fit_transform(word_vectors)\n",
    "    \n",
    "    # Visualisation\n",
    "    plt.figure(figsize=(10, 6))\n",
    "    sns.scatterplot(x=reduced[:, 0], y=reduced[:, 1])\n",
    "    \n",
    "    # Ajout des annotations (labels)\n",
    "    for i, word in enumerate(words):\n",
    "        plt.annotate(word, (reduced[i, 0], reduced[i, 1]))\n",
    "    \n",
    "    plt.title('t-SNE visualization of word embeddings')\n",
    "    plt.show()\n",
    "\n",
    "# Test avec les mots existants\n",
    "test_words = ['american', 'love', 'woman', 'family', 'war', 'romance']\n",
    "existing_words = [word for word in test_words if word in model.wv.key_to_index]\n",
    "print(\"Mots présents dans le vocabulaire:\", existing_words)\n",
    "\n",
    "# Utilisation de la fonction plot_words modifiée\n",
    "plot_words(model, existing_words)"
   ]
  },
  {
   "cell_type": "markdown",
   "metadata": {},
   "source": [
    "La visualisation t-SNE des embeddings de mots montre la projection en 2D des vecteurs Word2Vec pour des mots clés liés aux films. Cette représentation révèle des relations sémantiques intéressantes :\n",
    "\n",
    "- Les mots \"love\" et \"romance\" sont positionnés relativement proches l'un de l'autre, ce qui reflète leur similarité sémantique dans le contexte des descriptions de films.\n",
    "\n",
    "- Le mot \"war\" apparaît isolé en haut du graphique, suggérant un thème distinct dans les synopsis de films.\n",
    "\n",
    "- Les termes \"family\" et \"woman\" sont placés sur des quadrants opposés, indiquant des contextes d'utilisation différents dans notre corpus.\n",
    "\n",
    "- Le mot \"american\" se distingue également par sa position, probablement en raison de son utilisation spécifique comme marqueur culturel dans les descriptions.\n",
    "\n",
    "Cette projection t-SNE permet de visualiser comment notre modèle Word2Vec a capturé les relations sémantiques entre les mots dans l'espace vectoriel. Les distances entre les points reflètent les similarités contextuelles apprises par le modèle à partir des descriptions de films."
   ]
  },
  {
   "cell_type": "code",
   "execution_count": 32,
   "metadata": {},
   "outputs": [
    {
     "name": "stdout",
     "output_type": "stream",
     "text": [
      "\n",
      "Test d'analogie - woman + king - man:\n",
      "queen: 0.7616\n",
      "throne: 0.6688\n",
      "princess: 0.6617\n"
     ]
    }
   ],
   "source": [
    "# Test d'analogies classiques du type \"roi est à reine ce que homme est à femme\"\n",
    "try:\n",
    "    result = model.wv.most_similar(positive=['woman', 'king'], negative=['man'])\n",
    "    print(\"\\nTest d'analogie - woman + king - man:\")\n",
    "    for word, score in result[:3]:\n",
    "        print(f\"{word}: {score:.4f}\")\n",
    "except KeyError as e:\n",
    "    print(f\"Certains mots ne sont pas dans le vocabulaire: {e}\")"
   ]
  },
  {
   "cell_type": "code",
   "execution_count": 33,
   "metadata": {},
   "outputs": [
    {
     "name": "stdout",
     "output_type": "stream",
     "text": [
      "\n",
      "Mots les plus similaires à 'action':\n",
      "paced: 0.7165\n",
      "packed: 0.6995\n",
      "fi: 0.6779\n",
      "suspense: 0.6743\n",
      "flick: 0.6597\n"
     ]
    }
   ],
   "source": [
    "\n",
    "# Test de similarité entre genres de films\n",
    "try:\n",
    "    result = model.wv.most_similar('action')\n",
    "    print(\"\\nMots les plus similaires à 'action':\")\n",
    "    for word, score in result[:5]:\n",
    "        print(f\"{word}: {score:.4f}\")\n",
    "except KeyError as e:\n",
    "    print(f\"Le mot 'action' n'est pas dans le vocabulaire\")"
   ]
  },
  {
   "cell_type": "code",
   "execution_count": 34,
   "metadata": {},
   "outputs": [
    {
     "name": "stdout",
     "output_type": "stream",
     "text": [
      "\n",
      "Test d'opération - hero + woman - man:\n",
      "heroine: 0.5400\n",
      "dreamer: 0.5394\n",
      "rider: 0.5357\n"
     ]
    }
   ],
   "source": [
    "\n",
    "# Opérations arithmétiques sur les vecteurs\n",
    "try:\n",
    "    result = model.wv.most_similar(positive=['hero', 'woman'], negative=['man'])\n",
    "    print(\"\\nTest d'opération - hero + woman - man:\")\n",
    "    for word, score in result[:3]:\n",
    "        print(f\"{word}: {score:.4f}\")\n",
    "except KeyError as e:\n",
    "    print(f\"Certains mots ne sont pas dans le vocabulaire: {e}\")"
   ]
  },
  {
   "cell_type": "code",
   "execution_count": 35,
   "metadata": {},
   "outputs": [
    {
     "name": "stdout",
     "output_type": "stream",
     "text": [
      "\n",
      "Similarité cosinus entre 'love' et 'hate': 0.4422\n"
     ]
    }
   ],
   "source": [
    "\n",
    "# Calcul de similarité cosinus entre deux mots\n",
    "try:\n",
    "    similarity = model.wv.similarity('love', 'hate')\n",
    "    print(f\"\\nSimilarité cosinus entre 'love' et 'hate': {similarity:.4f}\")\n",
    "except KeyError as e:\n",
    "    print(f\"Certains mots ne sont pas dans le vocabulaire: {e}\")\n"
   ]
  },
  {
   "cell_type": "code",
   "execution_count": 36,
   "metadata": {},
   "outputs": [
    {
     "name": "stdout",
     "output_type": "stream",
     "text": [
      "\n",
      "Similarité cosinus entre 'love' et 'hate': 0.4422\n"
     ]
    }
   ],
   "source": [
    "# Calcul de similarité cosinus entre deux mots\n",
    "try:\n",
    "    similarity = model.wv.similarity('love', 'hate')\n",
    "    print(f\"\\nSimilarité cosinus entre 'love' et 'hate': {similarity:.4f}\")\n",
    "except KeyError as e:\n",
    "    print(f\"Certains mots ne sont pas dans le vocabulaire: {e}\")"
   ]
  },
  {
   "cell_type": "code",
   "execution_count": 37,
   "metadata": {},
   "outputs": [
    {
     "name": "stdout",
     "output_type": "stream",
     "text": [
      "\n",
      "Concepts proches de mystery + romance:\n",
      "seduction: 0.7191\n",
      "misadventure: 0.7157\n",
      "confusing: 0.7145\n",
      "morbid: 0.6983\n",
      "unravels: 0.6976\n"
     ]
    }
   ],
   "source": [
    "# Addition de vecteurs de concepts liés\n",
    "try:\n",
    "    result = model.wv.most_similar(positive=['mystery', 'romance'])\n",
    "    print(\"\\nConcepts proches de mystery + romance:\")\n",
    "    for word, score in result[:5]:\n",
    "        print(f\"{word}: {score:.4f}\")\n",
    "except KeyError as e:\n",
    "    print(f\"Certains mots ne sont pas dans le vocabulaire: {e}\")"
   ]
  }
 ],
 "metadata": {
  "kernelspec": {
   "display_name": "DL-env",
   "language": "python",
   "name": "python3"
  },
  "language_info": {
   "codemirror_mode": {
    "name": "ipython",
    "version": 3
   },
   "file_extension": ".py",
   "mimetype": "text/x-python",
   "name": "python",
   "nbconvert_exporter": "python",
   "pygments_lexer": "ipython3",
   "version": "3.10.16"
  }
 },
 "nbformat": 4,
 "nbformat_minor": 2
}
